{
  "nbformat": 4,
  "nbformat_minor": 0,
  "metadata": {
    "colab": {
      "provenance": [],
      "gpuType": "T4",
      "collapsed_sections": [
        "4dcvRnbCPhre",
        "l7BoXZP_Phri"
      ]
    },
    "kernelspec": {
      "name": "python3",
      "display_name": "Python 3"
    },
    "language_info": {
      "name": "python"
    },
    "accelerator": "GPU"
  },
  "cells": [
    {
      "metadata": {
        "id": "4dcvRnbCPhre"
      },
      "cell_type": "markdown",
      "source": [
        "# Install and Load Libraries"
      ]
    },
    {
      "metadata": {
        "colab": {
          "base_uri": "https://localhost:8080/"
        },
        "id": "wV9ahOLQHC8r",
        "outputId": "e47f51d3-fcc7-4d42-d8b1-573ac6ed6a74",
        "ExecuteTime": {
          "end_time": "2025-06-11T12:11:40.842296Z",
          "start_time": "2025-06-11T12:11:40.534478Z"
        }
      },
      "cell_type": "code",
      "source": [
        "!git clone https://github.com/rapidsai/rapidsai-csp-utils.git\n",
        "!python rapidsai-csp-utils/colab/pip-install.py"
      ],
      "outputs": [
        {
          "output_type": "stream",
          "name": "stdout",
          "text": [
            "Cloning into 'rapidsai-csp-utils'...\n",
            "remote: Enumerating objects: 596, done.\u001b[K\n",
            "remote: Counting objects: 100% (162/162), done.\u001b[K\n",
            "remote: Compressing objects: 100% (80/80), done.\u001b[K\n",
            "remote: Total 596 (delta 128), reused 82 (delta 82), pack-reused 434 (from 3)\u001b[K\n",
            "Receiving objects: 100% (596/596), 195.77 KiB | 6.31 MiB/s, done.\n",
            "Resolving deltas: 100% (302/302), done.\n",
            "Installing RAPIDS remaining 25.04 libraries\n",
            "Using Python 3.11.13 environment at: /usr\n",
            "Resolved 173 packages in 3.11s\n",
            "Downloading cugraph-cu12 (3.0MiB)\n",
            "Downloading cudf-cu12 (1.7MiB)\n",
            "Downloading rmm-cu12 (1.5MiB)\n",
            "Downloading ucx-py-cu12 (2.2MiB)\n",
            "Downloading libcuspatial-cu12 (31.1MiB)\n",
            "Downloading libcuvs-cu12 (1.1GiB)\n",
            "Downloading pylibcudf-cu12 (26.4MiB)\n",
            "Downloading librmm-cu12 (2.9MiB)\n",
            "Downloading libcudf-cu12 (538.8MiB)\n",
            "Downloading bokeh (6.6MiB)\n",
            "Downloading datashader (17.5MiB)\n",
            "Downloading shapely (2.4MiB)\n",
            "Downloading dask (1.3MiB)\n",
            "Downloading libcugraph-cu12 (1.4GiB)\n",
            "Downloading cuspatial-cu12 (4.1MiB)\n",
            "Downloading raft-dask-cu12 (274.9MiB)\n",
            "Downloading cuml-cu12 (9.4MiB)\n",
            "Downloading pylibcugraph-cu12 (2.0MiB)\n",
            "Downloading cuproj-cu12 (1.1MiB)\n",
            "Downloading libkvikio-cu12 (2.0MiB)\n",
            "Downloading libcuml-cu12 (404.9MiB)\n",
            "Downloading libraft-cu12 (20.8MiB)\n",
            "Downloading cucim-cu12 (5.6MiB)\n",
            " Downloaded cuproj-cu12\n",
            " Downloaded rmm-cu12\n",
            " Downloaded cudf-cu12\n",
            " Downloaded shapely\n",
            " Downloaded datashader\n",
            " Downloaded libkvikio-cu12\n",
            " Downloaded pylibcugraph-cu12\n",
            " Downloaded ucx-py-cu12\n",
            " Downloaded dask\n",
            " Downloaded bokeh\n",
            " Downloaded cuspatial-cu12\n",
            " Downloaded librmm-cu12\n",
            " Downloaded cugraph-cu12\n",
            " Downloaded cuml-cu12\n",
            " Downloaded cucim-cu12\n",
            " Downloaded libcuspatial-cu12\n",
            " Downloaded pylibcudf-cu12\n",
            " Downloaded libraft-cu12\n",
            " Downloaded libcudf-cu12\n",
            " Downloaded raft-dask-cu12\n",
            " Downloaded libcuml-cu12\n",
            " Downloaded libcuvs-cu12\n",
            " Downloaded libcugraph-cu12\n",
            "Prepared 52 packages in 1m 05s\n",
            "Uninstalled 29 packages in 842ms\n",
            "Installed 52 packages in 441ms\n",
            " + arrow==1.3.0\n",
            " - bokeh==3.7.3\n",
            " + bokeh==3.6.3\n",
            " + cucim-cu12==25.4.0\n",
            " - cudf-cu12==25.2.1 (from https://pypi.nvidia.com/cudf-cu12/cudf_cu12-25.2.1-cp311-cp311-manylinux_2_24_x86_64.manylinux_2_28_x86_64.whl)\n",
            " + cudf-cu12==25.4.0\n",
            " + cugraph-cu12==25.4.1\n",
            " - cuml-cu12==25.2.1\n",
            " + cuml-cu12==25.4.0\n",
            " + cuproj-cu12==25.4.0\n",
            " + cuspatial-cu12==25.4.0\n",
            " - cuvs-cu12==25.2.1\n",
            " + cuvs-cu12==25.4.0\n",
            " + cuxfilter-cu12==25.4.0\n",
            " - dask==2024.12.1\n",
            " + dask==2025.2.0\n",
            " - dask-cuda==25.2.0\n",
            " + dask-cuda==25.4.0\n",
            " - dask-cudf-cu12==25.2.2\n",
            " + dask-cudf-cu12==25.4.0\n",
            " + datashader==0.18.1\n",
            " - distributed==2024.12.1\n",
            " + distributed==2025.2.0\n",
            " - distributed-ucxx-cu12==0.42.0\n",
            " + distributed-ucxx-cu12==0.43.0\n",
            " + fqdn==1.5.1\n",
            " + isoduration==20.11.0\n",
            " - jupyter-client==6.1.12\n",
            " + jupyter-client==8.6.3\n",
            " + jupyter-events==0.12.0\n",
            " - jupyter-server==1.16.0\n",
            " + jupyter-server==2.16.0\n",
            " + jupyter-server-proxy==4.4.0\n",
            " + jupyter-server-terminals==0.5.3\n",
            " - libcudf-cu12==25.2.1 (from https://pypi.nvidia.com/libcudf-cu12/libcudf_cu12-25.2.1-py3-none-manylinux_2_28_x86_64.whl)\n",
            " + libcudf-cu12==25.4.0\n",
            " - libcugraph-cu12==25.2.0\n",
            " + libcugraph-cu12==25.4.1\n",
            " - libcuml-cu12==25.2.1\n",
            " + libcuml-cu12==25.4.0\n",
            " + libcuspatial-cu12==25.4.0\n",
            " - libcuvs-cu12==25.2.1\n",
            " + libcuvs-cu12==25.4.0\n",
            " - libkvikio-cu12==25.2.1\n",
            " + libkvikio-cu12==25.4.0\n",
            " - libraft-cu12==25.2.0\n",
            " + libraft-cu12==25.4.0\n",
            " + librmm-cu12==25.4.0\n",
            " - libucxx-cu12==0.42.0\n",
            " + libucxx-cu12==0.43.0\n",
            " - numba-cuda==0.2.0\n",
            " + numba-cuda==0.4.0\n",
            " - nx-cugraph-cu12==25.2.0 (from https://pypi.nvidia.com/nx-cugraph-cu12/nx_cugraph_cu12-25.2.0-py3-none-any.whl)\n",
            " + nx-cugraph-cu12==25.4.0\n",
            " + overrides==7.7.0\n",
            " + pyct==0.5.0\n",
            " - pylibcudf-cu12==25.2.1 (from https://pypi.nvidia.com/pylibcudf-cu12/pylibcudf_cu12-25.2.1-cp311-cp311-manylinux_2_24_x86_64.manylinux_2_28_x86_64.whl)\n",
            " + pylibcudf-cu12==25.4.0\n",
            " - pylibcugraph-cu12==25.2.0\n",
            " + pylibcugraph-cu12==25.4.1\n",
            " - pylibraft-cu12==25.2.0\n",
            " + pylibraft-cu12==25.4.0\n",
            " + python-json-logger==3.3.0\n",
            " - raft-dask-cu12==25.2.0\n",
            " + raft-dask-cu12==25.4.0\n",
            " - rapids-dask-dependency==25.2.0\n",
            " + rapids-dask-dependency==25.4.0\n",
            " + rapids-logger==0.1.1\n",
            " + rfc3339-validator==0.1.4\n",
            " + rfc3986-validator==0.1.1\n",
            " - rmm-cu12==25.2.0\n",
            " + rmm-cu12==25.4.0\n",
            " - shapely==2.1.1\n",
            " + shapely==2.0.7\n",
            " + simpervisor==1.0.0\n",
            " + types-python-dateutil==2.9.0.20250516\n",
            " - ucx-py-cu12==0.42.0\n",
            " + ucx-py-cu12==0.43.0\n",
            " - ucxx-cu12==0.42.0\n",
            " + ucxx-cu12==0.43.0\n",
            " + uri-template==1.3.0\n",
            "\n",
            "        ***********************************************************************\n",
            "        The pip install of RAPIDS is complete.\n",
            "\n",
            "        Please do not run any further installation from the conda based installation methods, as they may cause issues!\n",
            "\n",
            "        Please ensure that you're pulling from the git repo to remain updated with the latest working install scripts.\n",
            "\n",
            "        Troubleshooting:\n",
            "            - If there is an installation failure, please check back on RAPIDSAI owned templates/notebooks to see how to update your personal files.\n",
            "            - If an installation failure persists when using the latest script, please make an issue on https://github.com/rapidsai-community/rapidsai-csp-utils\n",
            "        ***********************************************************************\n",
            "        \n"
          ]
        }
      ],
      "execution_count": 11
    },
    {
      "cell_type": "code",
      "source": [
        "!pip install kaggle --quiet"
      ],
      "metadata": {
        "id": "OoNzM9phIL2x",
        "ExecuteTime": {
          "end_time": "2025-06-11T12:12:52.223461Z",
          "start_time": "2025-06-11T12:12:43.481996Z"
        }
      },
      "outputs": [],
      "execution_count": 12
    },
    {
      "cell_type": "code",
      "source": [
        "!mkdir ~/.kaggle\n",
        "!cp kaggle.json ~/.kaggle/\n",
        "!chmod 600 ~/.kaggle/kaggle.json"
      ],
      "metadata": {
        "id": "2K63QtceIQHp",
        "ExecuteTime": {
          "end_time": "2025-06-11T12:12:30.825823Z",
          "start_time": "2025-06-11T12:12:30.755903Z"
        }
      },
      "outputs": [],
      "execution_count": 13
    },
    {
      "cell_type": "code",
      "source": [
        "!kaggle datasets download -d sobhanmoosavi/us-accidents"
      ],
      "metadata": {
        "colab": {
          "base_uri": "https://localhost:8080/"
        },
        "id": "DROCRx-OIXAR",
        "outputId": "09d3389a-be1a-4d2f-8385-7eecab96191e",
        "ExecuteTime": {
          "end_time": "2025-06-11T12:12:30.982193Z",
          "start_time": "2025-06-11T12:12:30.950443Z"
        }
      },
      "outputs": [
        {
          "output_type": "stream",
          "name": "stdout",
          "text": [
            "Dataset URL: https://www.kaggle.com/datasets/sobhanmoosavi/us-accidents\n",
            "License(s): CC-BY-NC-SA-4.0\n",
            "Downloading us-accidents.zip to /content\n",
            " 99% 645M/653M [00:07<00:00, 216MB/s]\n",
            "100% 653M/653M [00:07<00:00, 92.5MB/s]\n"
          ]
        }
      ],
      "execution_count": 14
    },
    {
      "cell_type": "code",
      "source": [
        "!unzip us-accidents.zip"
      ],
      "metadata": {
        "colab": {
          "base_uri": "https://localhost:8080/"
        },
        "id": "YVC3bYgeIhu4",
        "outputId": "3a783d4c-7f9c-42d1-d532-4141179fb817",
        "ExecuteTime": {
          "end_time": "2025-06-11T12:12:31.056482Z",
          "start_time": "2025-06-11T12:12:31.023973Z"
        }
      },
      "outputs": [
        {
          "output_type": "stream",
          "name": "stdout",
          "text": [
            "Archive:  us-accidents.zip\n",
            "  inflating: US_Accidents_March23.csv  \n"
          ]
        }
      ],
      "execution_count": 15
    },
    {
      "cell_type": "code",
      "source": [],
      "metadata": {
        "id": "BwbAnQB6JKq3",
        "ExecuteTime": {
          "end_time": "2025-06-11T12:12:31.069442Z",
          "start_time": "2025-06-11T12:12:31.066882Z"
        }
      },
      "outputs": [],
      "execution_count": 15
    },
    {
      "cell_type": "code",
      "source": [
        "import dask.dataframe as dd\n",
        "\n",
        "df = dd.read_csv(\"/content/US_Accidents_March23.csv\")"
      ],
      "metadata": {
        "id": "Fcfr6-8GIvQ-",
        "ExecuteTime": {
          "end_time": "2025-06-11T12:12:31.519368Z",
          "start_time": "2025-06-11T12:12:31.091609Z"
        }
      },
      "outputs": [],
      "execution_count": 16
    },
    {
      "cell_type": "code",
      "source": [
        "import cudf\n",
        "cudf.__version__"
      ],
      "metadata": {
        "colab": {
          "base_uri": "https://localhost:8080/",
          "height": 35
        },
        "id": "u2U8gPywJQdP",
        "outputId": "c8e4a7d2-42b8-4a07-a196-ece529932718"
      },
      "execution_count": 17,
      "outputs": [
        {
          "output_type": "execute_result",
          "data": {
            "text/plain": [
              "'25.02.01'"
            ],
            "application/vnd.google.colaboratory.intrinsic+json": {
              "type": "string"
            }
          },
          "metadata": {},
          "execution_count": 17
        }
      ]
    },
    {
      "metadata": {
        "id": "l7BoXZP_Phri"
      },
      "cell_type": "markdown",
      "source": [
        "# Data Extraction"
      ]
    },
    {
      "metadata": {
        "id": "GjiAgnJkJZ-n"
      },
      "cell_type": "code",
      "outputs": [],
      "execution_count": 18,
      "source": [
        "import cudf\n",
        "\n",
        "df = cudf.read_csv(\"/content/US_Accidents_March23.csv\")"
      ]
    },
    {
      "cell_type": "code",
      "source": [
        "df.info()"
      ],
      "metadata": {
        "colab": {
          "base_uri": "https://localhost:8080/"
        },
        "id": "bKHxXxGiJfhR",
        "outputId": "d1f96c41-471d-4f40-cf2b-f746f412e34b"
      },
      "execution_count": 19,
      "outputs": [
        {
          "output_type": "stream",
          "name": "stdout",
          "text": [
            "<class 'cudf.core.dataframe.DataFrame'>\n",
            "RangeIndex: 7728394 entries, 0 to 7728393\n",
            "Data columns (total 46 columns):\n",
            " #   Column                 Dtype\n",
            "---  ------                 -----\n",
            " 0   ID                     object\n",
            " 1   Source                 object\n",
            " 2   Severity               int64\n",
            " 3   Start_Time             object\n",
            " 4   End_Time               object\n",
            " 5   Start_Lat              float64\n",
            " 6   Start_Lng              float64\n",
            " 7   End_Lat                float64\n",
            " 8   End_Lng                float64\n",
            " 9   Distance(mi)           float64\n",
            " 10  Description            object\n",
            " 11  Street                 object\n",
            " 12  City                   object\n",
            " 13  County                 object\n",
            " 14  State                  object\n",
            " 15  Zipcode                object\n",
            " 16  Country                object\n",
            " 17  Timezone               object\n",
            " 18  Airport_Code           object\n",
            " 19  Weather_Timestamp      object\n",
            " 20  Temperature(F)         float64\n",
            " 21  Wind_Chill(F)          float64\n",
            " 22  Humidity(%)            float64\n",
            " 23  Pressure(in)           float64\n",
            " 24  Visibility(mi)         float64\n",
            " 25  Wind_Direction         object\n",
            " 26  Wind_Speed(mph)        float64\n",
            " 27  Precipitation(in)      float64\n",
            " 28  Weather_Condition      object\n",
            " 29  Amenity                bool\n",
            " 30  Bump                   bool\n",
            " 31  Crossing               bool\n",
            " 32  Give_Way               bool\n",
            " 33  Junction               bool\n",
            " 34  No_Exit                bool\n",
            " 35  Railway                bool\n",
            " 36  Roundabout             bool\n",
            " 37  Station                bool\n",
            " 38  Stop                   bool\n",
            " 39  Traffic_Calming        bool\n",
            " 40  Traffic_Signal         bool\n",
            " 41  Turning_Loop           bool\n",
            " 42  Sunrise_Sunset         object\n",
            " 43  Civil_Twilight         object\n",
            " 44  Nautical_Twilight      object\n",
            " 45  Astronomical_Twilight  object\n",
            "dtypes: bool(13), float64(12), int64(1), object(20)\n",
            "memory usage: 3.0+ GB\n"
          ]
        }
      ]
    },
    {
      "cell_type": "code",
      "source": [
        "df.describe()"
      ],
      "metadata": {
        "colab": {
          "base_uri": "https://localhost:8080/",
          "height": 300
        },
        "id": "FEltpFCRJjrX",
        "outputId": "7b74d0ab-1558-4beb-f459-4025d65f086f"
      },
      "execution_count": 20,
      "outputs": [
        {
          "output_type": "execute_result",
          "data": {
            "text/plain": [
              "           Severity     Start_Lat     Start_Lng       End_Lat       End_Lng  \\\n",
              "count  7.728394e+06  7.728394e+06  7.728394e+06  4.325632e+06  4.325632e+06   \n",
              "mean   2.212384e+00  3.620119e+01 -9.470255e+01  3.626183e+01 -9.572557e+01   \n",
              "std    4.875310e-01  5.076079e+00  1.739176e+01  5.272905e+00  1.810793e+01   \n",
              "min    1.000000e+00  2.455480e+01 -1.246238e+02  2.456601e+01 -1.245457e+02   \n",
              "25%    2.000000e+00  3.339963e+01 -1.172194e+02  3.346207e+01 -1.177543e+02   \n",
              "50%    2.000000e+00  3.582397e+01 -8.776662e+01  3.618350e+01 -8.802789e+01   \n",
              "75%    2.000000e+00  4.008496e+01 -8.035368e+01  4.017892e+01 -8.024709e+01   \n",
              "max    4.000000e+00  4.900220e+01 -6.711317e+01  4.907500e+01 -6.710924e+01   \n",
              "\n",
              "       Distance(mi)  Temperature(F)  Wind_Chill(F)   Humidity(%)  \\\n",
              "count  7.728394e+06    7.564541e+06   5.729375e+06  7.554250e+06   \n",
              "mean   5.618420e-01    6.166329e+01   5.825105e+01  6.483104e+01   \n",
              "std    1.776811e+00    1.901365e+01   2.238983e+01  2.282097e+01   \n",
              "min    0.000000e+00   -8.900000e+01  -8.900000e+01  1.000000e+00   \n",
              "25%    0.000000e+00    4.900000e+01   4.300000e+01  4.800000e+01   \n",
              "50%    3.000000e-02    6.400000e+01   6.200000e+01  6.700000e+01   \n",
              "75%    4.640000e-01    7.600000e+01   7.500000e+01  8.400000e+01   \n",
              "max    4.417500e+02    2.070000e+02   2.070000e+02  1.000000e+02   \n",
              "\n",
              "       Pressure(in)  Visibility(mi)  Wind_Speed(mph)  Precipitation(in)  \n",
              "count  7.587715e+06    7.551296e+06     7.157161e+06       5.524808e+06  \n",
              "mean   2.953899e+01    9.090376e+00     7.685490e+00       8.407000e-03  \n",
              "std    1.006190e+00    2.688316e+00     5.424983e+00       1.102250e-01  \n",
              "min    0.000000e+00    0.000000e+00     0.000000e+00       0.000000e+00  \n",
              "25%    2.937000e+01    1.000000e+01     4.600000e+00       0.000000e+00  \n",
              "50%    2.986000e+01    1.000000e+01     7.000000e+00       0.000000e+00  \n",
              "75%    3.003000e+01    1.000000e+01     1.040000e+01       0.000000e+00  \n",
              "max    5.863000e+01    1.400000e+02     1.087000e+03       3.647000e+01  "
            ],
            "text/html": [
              "<div>\n",
              "<style scoped>\n",
              "    .dataframe tbody tr th:only-of-type {\n",
              "        vertical-align: middle;\n",
              "    }\n",
              "\n",
              "    .dataframe tbody tr th {\n",
              "        vertical-align: top;\n",
              "    }\n",
              "\n",
              "    .dataframe thead th {\n",
              "        text-align: right;\n",
              "    }\n",
              "</style>\n",
              "<table border=\"1\" class=\"dataframe\">\n",
              "  <thead>\n",
              "    <tr style=\"text-align: right;\">\n",
              "      <th></th>\n",
              "      <th>Severity</th>\n",
              "      <th>Start_Lat</th>\n",
              "      <th>Start_Lng</th>\n",
              "      <th>End_Lat</th>\n",
              "      <th>End_Lng</th>\n",
              "      <th>Distance(mi)</th>\n",
              "      <th>Temperature(F)</th>\n",
              "      <th>Wind_Chill(F)</th>\n",
              "      <th>Humidity(%)</th>\n",
              "      <th>Pressure(in)</th>\n",
              "      <th>Visibility(mi)</th>\n",
              "      <th>Wind_Speed(mph)</th>\n",
              "      <th>Precipitation(in)</th>\n",
              "    </tr>\n",
              "  </thead>\n",
              "  <tbody>\n",
              "    <tr>\n",
              "      <th>count</th>\n",
              "      <td>7.728394e+06</td>\n",
              "      <td>7.728394e+06</td>\n",
              "      <td>7.728394e+06</td>\n",
              "      <td>4.325632e+06</td>\n",
              "      <td>4.325632e+06</td>\n",
              "      <td>7.728394e+06</td>\n",
              "      <td>7.564541e+06</td>\n",
              "      <td>5.729375e+06</td>\n",
              "      <td>7.554250e+06</td>\n",
              "      <td>7.587715e+06</td>\n",
              "      <td>7.551296e+06</td>\n",
              "      <td>7.157161e+06</td>\n",
              "      <td>5.524808e+06</td>\n",
              "    </tr>\n",
              "    <tr>\n",
              "      <th>mean</th>\n",
              "      <td>2.212384e+00</td>\n",
              "      <td>3.620119e+01</td>\n",
              "      <td>-9.470255e+01</td>\n",
              "      <td>3.626183e+01</td>\n",
              "      <td>-9.572557e+01</td>\n",
              "      <td>5.618420e-01</td>\n",
              "      <td>6.166329e+01</td>\n",
              "      <td>5.825105e+01</td>\n",
              "      <td>6.483104e+01</td>\n",
              "      <td>2.953899e+01</td>\n",
              "      <td>9.090376e+00</td>\n",
              "      <td>7.685490e+00</td>\n",
              "      <td>8.407000e-03</td>\n",
              "    </tr>\n",
              "    <tr>\n",
              "      <th>std</th>\n",
              "      <td>4.875310e-01</td>\n",
              "      <td>5.076079e+00</td>\n",
              "      <td>1.739176e+01</td>\n",
              "      <td>5.272905e+00</td>\n",
              "      <td>1.810793e+01</td>\n",
              "      <td>1.776811e+00</td>\n",
              "      <td>1.901365e+01</td>\n",
              "      <td>2.238983e+01</td>\n",
              "      <td>2.282097e+01</td>\n",
              "      <td>1.006190e+00</td>\n",
              "      <td>2.688316e+00</td>\n",
              "      <td>5.424983e+00</td>\n",
              "      <td>1.102250e-01</td>\n",
              "    </tr>\n",
              "    <tr>\n",
              "      <th>min</th>\n",
              "      <td>1.000000e+00</td>\n",
              "      <td>2.455480e+01</td>\n",
              "      <td>-1.246238e+02</td>\n",
              "      <td>2.456601e+01</td>\n",
              "      <td>-1.245457e+02</td>\n",
              "      <td>0.000000e+00</td>\n",
              "      <td>-8.900000e+01</td>\n",
              "      <td>-8.900000e+01</td>\n",
              "      <td>1.000000e+00</td>\n",
              "      <td>0.000000e+00</td>\n",
              "      <td>0.000000e+00</td>\n",
              "      <td>0.000000e+00</td>\n",
              "      <td>0.000000e+00</td>\n",
              "    </tr>\n",
              "    <tr>\n",
              "      <th>25%</th>\n",
              "      <td>2.000000e+00</td>\n",
              "      <td>3.339963e+01</td>\n",
              "      <td>-1.172194e+02</td>\n",
              "      <td>3.346207e+01</td>\n",
              "      <td>-1.177543e+02</td>\n",
              "      <td>0.000000e+00</td>\n",
              "      <td>4.900000e+01</td>\n",
              "      <td>4.300000e+01</td>\n",
              "      <td>4.800000e+01</td>\n",
              "      <td>2.937000e+01</td>\n",
              "      <td>1.000000e+01</td>\n",
              "      <td>4.600000e+00</td>\n",
              "      <td>0.000000e+00</td>\n",
              "    </tr>\n",
              "    <tr>\n",
              "      <th>50%</th>\n",
              "      <td>2.000000e+00</td>\n",
              "      <td>3.582397e+01</td>\n",
              "      <td>-8.776662e+01</td>\n",
              "      <td>3.618350e+01</td>\n",
              "      <td>-8.802789e+01</td>\n",
              "      <td>3.000000e-02</td>\n",
              "      <td>6.400000e+01</td>\n",
              "      <td>6.200000e+01</td>\n",
              "      <td>6.700000e+01</td>\n",
              "      <td>2.986000e+01</td>\n",
              "      <td>1.000000e+01</td>\n",
              "      <td>7.000000e+00</td>\n",
              "      <td>0.000000e+00</td>\n",
              "    </tr>\n",
              "    <tr>\n",
              "      <th>75%</th>\n",
              "      <td>2.000000e+00</td>\n",
              "      <td>4.008496e+01</td>\n",
              "      <td>-8.035368e+01</td>\n",
              "      <td>4.017892e+01</td>\n",
              "      <td>-8.024709e+01</td>\n",
              "      <td>4.640000e-01</td>\n",
              "      <td>7.600000e+01</td>\n",
              "      <td>7.500000e+01</td>\n",
              "      <td>8.400000e+01</td>\n",
              "      <td>3.003000e+01</td>\n",
              "      <td>1.000000e+01</td>\n",
              "      <td>1.040000e+01</td>\n",
              "      <td>0.000000e+00</td>\n",
              "    </tr>\n",
              "    <tr>\n",
              "      <th>max</th>\n",
              "      <td>4.000000e+00</td>\n",
              "      <td>4.900220e+01</td>\n",
              "      <td>-6.711317e+01</td>\n",
              "      <td>4.907500e+01</td>\n",
              "      <td>-6.710924e+01</td>\n",
              "      <td>4.417500e+02</td>\n",
              "      <td>2.070000e+02</td>\n",
              "      <td>2.070000e+02</td>\n",
              "      <td>1.000000e+02</td>\n",
              "      <td>5.863000e+01</td>\n",
              "      <td>1.400000e+02</td>\n",
              "      <td>1.087000e+03</td>\n",
              "      <td>3.647000e+01</td>\n",
              "    </tr>\n",
              "  </tbody>\n",
              "</table>\n",
              "</div>"
            ]
          },
          "metadata": {},
          "execution_count": 20
        }
      ]
    },
    {
      "metadata": {
        "id": "b__2h2NnPhrj"
      },
      "cell_type": "markdown",
      "source": [
        "# PreProcessing"
      ]
    },
    {
      "metadata": {
        "colab": {
          "base_uri": "https://localhost:8080/"
        },
        "id": "XNXksPjKPhrk",
        "outputId": "73884610-9651-47ac-db78-edd9839bec08"
      },
      "cell_type": "code",
      "outputs": [
        {
          "output_type": "stream",
          "name": "stdout",
          "text": [
            "🧠 حجم اولیه دیتافریم (GB): 3.242436959\n"
          ]
        }
      ],
      "execution_count": 63,
      "source": [
        "import pandas as pd\n",
        "import cudf\n",
        "\n",
        "df = cudf.read_csv(\"/content/US_Accidents_March23.csv\")\n",
        "\n",
        "\n",
        "\n",
        "print(\"🧠 حجم اولیه دیتافریم (GB):\", df.memory_usage(deep=True).sum() / 1e9)\n"
      ]
    },
    {
      "cell_type": "code",
      "source": [
        "\n",
        "if 'Country' in df.columns:\n",
        "    df['Country'] = (df['Country'] == 'US').astype('uint8')\n"
      ],
      "metadata": {
        "id": "LkYaeZ3biQMA"
      },
      "execution_count": 64,
      "outputs": []
    },
    {
      "cell_type": "code",
      "source": [
        "for col in df.select_dtypes(include=['int64', 'float64']).columns:\n",
        "    df[col] = pd.to_numeric(df[col].to_pandas(), downcast='unsigned' if df[col].min() >= 0 else 'float')"
      ],
      "metadata": {
        "id": "UkU1Xf1RiXrV"
      },
      "execution_count": 65,
      "outputs": []
    },
    {
      "cell_type": "code",
      "source": [
        "from sklearn.preprocessing import LabelEncoder\n",
        "import pandas as pd\n",
        "\n",
        "label_encoders = {}\n",
        "\n",
        "for col in df.select_dtypes(include='object').columns:\n",
        "    le = LabelEncoder()\n",
        "    df_col_pandas = df[col].astype(str).fillna(\"missing\").to_pandas()\n",
        "    encoded_col_pandas = le.fit_transform(df_col_pandas)\n",
        "    df[col] = cudf.Series(encoded_col_pandas)\n",
        "    label_encoders[col] = le"
      ],
      "metadata": {
        "id": "ib_bPRmwikfI"
      },
      "execution_count": 66,
      "outputs": []
    },
    {
      "cell_type": "code",
      "source": [
        "cols_to_keep_mask = df.isnull().mean() < 0.9\n",
        "cols_to_keep = cols_to_keep_mask[cols_to_keep_mask].index.to_arrow().to_pylist()\n",
        "df = df[cols_to_keep]"
      ],
      "metadata": {
        "id": "uc4_j7Akj9UE"
      },
      "execution_count": 67,
      "outputs": []
    },
    {
      "cell_type": "code",
      "source": [
        "df.dropna(subset=['Start_Time', 'End_Time', 'Start_Lat', 'Start_Lng', 'End_Lat', 'End_Lng'], inplace=True)"
      ],
      "metadata": {
        "id": "uCWhOyAal4UN"
      },
      "execution_count": 68,
      "outputs": []
    },
    {
      "cell_type": "code",
      "source": [
        "df['Start_Date'] = pd.to_datetime(df['Start_Time'].to_pandas()).dt.date.astype(str)\n",
        "df.drop(['Start_Time', 'End_Time'], axis=1, inplace=True)"
      ],
      "metadata": {
        "id": "CqUhMSl7mR7m"
      },
      "execution_count": 69,
      "outputs": []
    },
    {
      "cell_type": "code",
      "source": [
        "df = df[df['Distance(mi)'] < 100]"
      ],
      "metadata": {
        "id": "yA-qSgpon6ye"
      },
      "execution_count": 92,
      "outputs": []
    },
    {
      "cell_type": "code",
      "source": [
        "cols = ['Start_Lat', 'Start_Lng', 'End_Lat', 'End_Lng', 'Distance(mi)']\n",
        "\n",
        "for col in cols:\n",
        "    if col in df.columns:\n",
        "        df[col] = df[col].astype('float32')"
      ],
      "metadata": {
        "id": "rn574jtnqIxs"
      },
      "execution_count": 93,
      "outputs": []
    },
    {
      "cell_type": "code",
      "source": [
        "print(\"✅ حجم پس از بهینه‌سازی (GB):\", df.memory_usage(deep=True).sum() / 1e9)"
      ],
      "metadata": {
        "colab": {
          "base_uri": "https://localhost:8080/"
        },
        "id": "Z1mFs-RcjUWn",
        "outputId": "0aba5149-a5c8-49a0-f430-c308952c8bb7"
      },
      "execution_count": 94,
      "outputs": [
        {
          "output_type": "stream",
          "name": "stdout",
          "text": [
            "✅ حجم پس از بهینه‌سازی (GB): 0.968391949\n"
          ]
        }
      ]
    },
    {
      "cell_type": "code",
      "source": [
        "df.head()\n"
      ],
      "metadata": {
        "colab": {
          "base_uri": "https://localhost:8080/",
          "height": 255
        },
        "id": "NXRe6EPLnGUz",
        "outputId": "0bd32726-c5b8-4141-a5b0-ad9e07d53d6f"
      },
      "execution_count": 95,
      "outputs": [
        {
          "output_type": "execute_result",
          "data": {
            "text/plain": [
              "              ID  Source  Severity  Start_Lat  Start_Lng    End_Lat  \\\n",
              "3402762  2680600       0         3  40.108910 -83.092857  40.112061   \n",
              "3402763  2680601       0         2  39.865421 -84.062798  39.865009   \n",
              "3402764  2680602       0         2  39.102661 -84.524681  39.102089   \n",
              "3402765  2680603       0         2  39.101479 -84.523407  39.098412   \n",
              "3402766  2680604       0         2  41.062130 -81.537842  41.062168   \n",
              "\n",
              "           End_Lng  Distance(mi)  Description  Street  ...  Traffic_Signal  \\\n",
              "3402762 -83.031868         3.230      1342349  269957  ...           False   \n",
              "3402763 -84.048729         0.747      1239529  225926  ...           False   \n",
              "3402764 -84.523956         0.055      1211011  225953  ...           False   \n",
              "3402765 -84.522408         0.219      1211011  316973  ...           False   \n",
              "3402766 -81.535469         0.123      1184327  225965  ...           False   \n",
              "\n",
              "         Turning_Loop  Sunrise_Sunset  Civil_Twilight  Nautical_Twilight  \\\n",
              "3402762         False               1               1                  1   \n",
              "3402763         False               1               1                  1   \n",
              "3402764         False               1               1                  1   \n",
              "3402765         False               1               1                  1   \n",
              "3402766         False               1               1                  0   \n",
              "\n",
              "         Astronomical_Twilight  Start_Date Is_Cold  Is_Low_Visibility  \\\n",
              "3402762                      1  1970-01-01       0                  0   \n",
              "3402763                      1  1970-01-01       0                  0   \n",
              "3402764                      0  1970-01-01       0                  0   \n",
              "3402765                      0  1970-01-01       0                  0   \n",
              "3402766                      0  1970-01-01       0                  0   \n",
              "\n",
              "         Location_Hash  \n",
              "3402762           6193  \n",
              "3402763           1634  \n",
              "3402764           8393  \n",
              "3402765           8393  \n",
              "3402766           1868  \n",
              "\n",
              "[5 rows x 44 columns]"
            ],
            "text/html": [
              "<div>\n",
              "<style scoped>\n",
              "    .dataframe tbody tr th:only-of-type {\n",
              "        vertical-align: middle;\n",
              "    }\n",
              "\n",
              "    .dataframe tbody tr th {\n",
              "        vertical-align: top;\n",
              "    }\n",
              "\n",
              "    .dataframe thead th {\n",
              "        text-align: right;\n",
              "    }\n",
              "</style>\n",
              "<table border=\"1\" class=\"dataframe\">\n",
              "  <thead>\n",
              "    <tr style=\"text-align: right;\">\n",
              "      <th></th>\n",
              "      <th>ID</th>\n",
              "      <th>Source</th>\n",
              "      <th>Severity</th>\n",
              "      <th>Start_Lat</th>\n",
              "      <th>Start_Lng</th>\n",
              "      <th>End_Lat</th>\n",
              "      <th>End_Lng</th>\n",
              "      <th>Distance(mi)</th>\n",
              "      <th>Description</th>\n",
              "      <th>Street</th>\n",
              "      <th>...</th>\n",
              "      <th>Traffic_Signal</th>\n",
              "      <th>Turning_Loop</th>\n",
              "      <th>Sunrise_Sunset</th>\n",
              "      <th>Civil_Twilight</th>\n",
              "      <th>Nautical_Twilight</th>\n",
              "      <th>Astronomical_Twilight</th>\n",
              "      <th>Start_Date</th>\n",
              "      <th>Is_Cold</th>\n",
              "      <th>Is_Low_Visibility</th>\n",
              "      <th>Location_Hash</th>\n",
              "    </tr>\n",
              "  </thead>\n",
              "  <tbody>\n",
              "    <tr>\n",
              "      <th>3402762</th>\n",
              "      <td>2680600</td>\n",
              "      <td>0</td>\n",
              "      <td>3</td>\n",
              "      <td>40.108910</td>\n",
              "      <td>-83.092857</td>\n",
              "      <td>40.112061</td>\n",
              "      <td>-83.031868</td>\n",
              "      <td>3.230</td>\n",
              "      <td>1342349</td>\n",
              "      <td>269957</td>\n",
              "      <td>...</td>\n",
              "      <td>False</td>\n",
              "      <td>False</td>\n",
              "      <td>1</td>\n",
              "      <td>1</td>\n",
              "      <td>1</td>\n",
              "      <td>1</td>\n",
              "      <td>1970-01-01</td>\n",
              "      <td>0</td>\n",
              "      <td>0</td>\n",
              "      <td>6193</td>\n",
              "    </tr>\n",
              "    <tr>\n",
              "      <th>3402763</th>\n",
              "      <td>2680601</td>\n",
              "      <td>0</td>\n",
              "      <td>2</td>\n",
              "      <td>39.865421</td>\n",
              "      <td>-84.062798</td>\n",
              "      <td>39.865009</td>\n",
              "      <td>-84.048729</td>\n",
              "      <td>0.747</td>\n",
              "      <td>1239529</td>\n",
              "      <td>225926</td>\n",
              "      <td>...</td>\n",
              "      <td>False</td>\n",
              "      <td>False</td>\n",
              "      <td>1</td>\n",
              "      <td>1</td>\n",
              "      <td>1</td>\n",
              "      <td>1</td>\n",
              "      <td>1970-01-01</td>\n",
              "      <td>0</td>\n",
              "      <td>0</td>\n",
              "      <td>1634</td>\n",
              "    </tr>\n",
              "    <tr>\n",
              "      <th>3402764</th>\n",
              "      <td>2680602</td>\n",
              "      <td>0</td>\n",
              "      <td>2</td>\n",
              "      <td>39.102661</td>\n",
              "      <td>-84.524681</td>\n",
              "      <td>39.102089</td>\n",
              "      <td>-84.523956</td>\n",
              "      <td>0.055</td>\n",
              "      <td>1211011</td>\n",
              "      <td>225953</td>\n",
              "      <td>...</td>\n",
              "      <td>False</td>\n",
              "      <td>False</td>\n",
              "      <td>1</td>\n",
              "      <td>1</td>\n",
              "      <td>1</td>\n",
              "      <td>0</td>\n",
              "      <td>1970-01-01</td>\n",
              "      <td>0</td>\n",
              "      <td>0</td>\n",
              "      <td>8393</td>\n",
              "    </tr>\n",
              "    <tr>\n",
              "      <th>3402765</th>\n",
              "      <td>2680603</td>\n",
              "      <td>0</td>\n",
              "      <td>2</td>\n",
              "      <td>39.101479</td>\n",
              "      <td>-84.523407</td>\n",
              "      <td>39.098412</td>\n",
              "      <td>-84.522408</td>\n",
              "      <td>0.219</td>\n",
              "      <td>1211011</td>\n",
              "      <td>316973</td>\n",
              "      <td>...</td>\n",
              "      <td>False</td>\n",
              "      <td>False</td>\n",
              "      <td>1</td>\n",
              "      <td>1</td>\n",
              "      <td>1</td>\n",
              "      <td>0</td>\n",
              "      <td>1970-01-01</td>\n",
              "      <td>0</td>\n",
              "      <td>0</td>\n",
              "      <td>8393</td>\n",
              "    </tr>\n",
              "    <tr>\n",
              "      <th>3402766</th>\n",
              "      <td>2680604</td>\n",
              "      <td>0</td>\n",
              "      <td>2</td>\n",
              "      <td>41.062130</td>\n",
              "      <td>-81.537842</td>\n",
              "      <td>41.062168</td>\n",
              "      <td>-81.535469</td>\n",
              "      <td>0.123</td>\n",
              "      <td>1184327</td>\n",
              "      <td>225965</td>\n",
              "      <td>...</td>\n",
              "      <td>False</td>\n",
              "      <td>False</td>\n",
              "      <td>1</td>\n",
              "      <td>1</td>\n",
              "      <td>0</td>\n",
              "      <td>0</td>\n",
              "      <td>1970-01-01</td>\n",
              "      <td>0</td>\n",
              "      <td>0</td>\n",
              "      <td>1868</td>\n",
              "    </tr>\n",
              "  </tbody>\n",
              "</table>\n",
              "<p>5 rows × 44 columns</p>\n",
              "</div>"
            ]
          },
          "metadata": {},
          "execution_count": 95
        }
      ]
    }
  ]
}